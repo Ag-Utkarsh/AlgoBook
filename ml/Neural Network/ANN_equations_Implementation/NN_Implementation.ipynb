{
 "cells": [
  {
   "cell_type": "code",
   "execution_count": 1,
   "metadata": {},
   "outputs": [],
   "source": [
    "import numpy as np\n",
    "import matplotlib.pyplot as plt\n",
    "import h5py"
   ]
  },
  {
   "cell_type": "code",
   "execution_count": 4,
   "metadata": {},
   "outputs": [],
   "source": [
    "def load_data():\n",
    "    train_dataset = h5py.File(r'./dataset/train_catvnoncat.h5', \"r\")\n",
    "    train_set_x_orig = np.array(train_dataset[\"train_set_x\"][:])\n",
    "    train_set_y_orig = np.array(train_dataset[\"train_set_y\"][:])\n",
    "    \n",
    "    test_dataset = h5py.File(r'./dataset/test_catvnoncat.h5', \"r\")\n",
    "    test_set_x_orig = np.array(test_dataset[\"test_set_x\"][:]) \n",
    "    test_set_y_orig = np.array(test_dataset[\"test_set_y\"][:])\n",
    "    \n",
    "    train_set_y_orig = train_set_y_orig.reshape((1,train_set_y_orig.shape[0]))\n",
    "    test_set_y_orig = test_set_y_orig.reshape((1,test_set_y_orig.shape[0]))\n",
    "    \n",
    "    return train_set_x_orig, train_set_y_orig, test_set_x_orig, test_set_y_orig"
   ]
  },
  {
   "cell_type": "code",
   "execution_count": 5,
   "metadata": {},
   "outputs": [],
   "source": [
    "#Load dataset\n",
    "train_x, train_y, test_x, test_y = load_data()\n",
    "\n",
    "train_x = train_x.reshape(train_x.shape[0],-1).T\n",
    "test_x = test_x.reshape(test_x.shape[0],-1).T\n",
    "train_x = train_x/255.0\n",
    "test_x = test_x/255.0"
   ]
  },
  {
   "cell_type": "code",
   "execution_count": 6,
   "metadata": {},
   "outputs": [],
   "source": [
    "def sigmoid(Z):\n",
    "    A = 1/(1+np.exp(-Z))\n",
    "    assert(A.shape == Z.shape)\n",
    "    return A\n",
    "\n",
    "def relu(Z):\n",
    "    A = np.maximum(0,Z)\n",
    "    assert(A.shape == Z.shape)\n",
    "    return A\n",
    "\n",
    "def relu_derivative(dA, Z):\n",
    "    dZ = np.array(dA, copy=True) \n",
    "    dZ[Z <= 0] = 0\n",
    "    assert(dA.shape==Z.shape)\n",
    "    return dZ\n",
    "\n",
    "def sigmoid_derivative(dA, Z):\n",
    "    s = 1/(1+np.exp(-Z))\n",
    "    dZ = dA * s * (1-s)\n",
    "    assert (dZ.shape == Z.shape)\n",
    "    return dZ\n",
    "\n",
    "def initialize_parameters(layer_sizes):\n",
    "    biases=[]\n",
    "    weights=[]\n",
    "    for l in range(1,len(layer_sizes)):\n",
    "        biases.append(np.random.rand(layer_sizes[l],1)*0.01)\n",
    "        weights.append(np.random.rand(layer_sizes[l],layer_sizes[l-1])*0.01)\n",
    "    return weights, biases\n",
    "\n",
    "def forward_prop(X, weights, biases):\n",
    "    \n",
    "    Z_values=[]\n",
    "    A_values=[X]\n",
    "    for l in range(0,len(weights)-1):\n",
    "        Z=np.dot(weights[l],A_values[l])+biases[l]\n",
    "#         print(Z.shape)\n",
    "        Z_values.append(Z)\n",
    "        A = relu(Z)\n",
    "        A_values.append(A)\n",
    "    ZL= np.dot(weights[len(weights)-1],A)+biases[len(weights)-1] \n",
    "    \n",
    "    Z_values.append(ZL)\n",
    "    AL=sigmoid(ZL)\n",
    "    A_values.append(AL)\n",
    "#     print(AL)\n",
    "    return AL, Z_values, A_values\n",
    "        \n",
    "def calculate_cost(A, y):\n",
    "    m= y.shape[1]\n",
    "#     print(y.shape, A.shape)\n",
    "    cost= (1./m) * np.sum(-np.multiply(y,np.log(A)) - np.multiply(1-y, np.log(1-A)))\n",
    "    return cost\n",
    "\n",
    "def backward_prop(AL,Y, Z_values, A_values,weights):\n",
    "#     print(\"len weights\",len(weights))\n",
    "#     print(\"len zvalues\",len(Z_values))\n",
    "    L=len(Z_values)\n",
    "#     print(L)\n",
    "#     print(AL.shape, Y.shape)\n",
    "    m=Y.shape[1]\n",
    "    grads_weights=[]\n",
    "    grads_biases=[]\n",
    "    \n",
    "    dAL = - (np.divide(Y, AL) - np.divide(1 - Y, 1 - AL))\n",
    "#     print(dAL.shape)\n",
    "#     print(\"Z_value[L-1]\", Z_values[L-1].shape)\n",
    "    dZ = sigmoid_derivative(dAL,Z_values[L-1])\n",
    "#     print(\"dZ\", dZ.shape)\n",
    "#     print(\"A_value[L-2]\", A_values[L-1].shape)\n",
    "    dW = 1./m * np.dot(dZ,A_values[L-1].T)\n",
    "#     print(\"dW\",dW.shape)\n",
    "    db = 1./m * np.sum(dZ, axis = 1, keepdims = True)\n",
    "#     print(\"dB\",db.shape)\n",
    "    grads_weights.insert(0,dW)\n",
    "    grads_biases.insert(0,db)\n",
    "    \n",
    "    for l in reversed(range(L-1)):\n",
    "#         print(l)\n",
    "#         print(\"weights[0]\",(weights[l].shape))\n",
    "        dA = np.dot(weights[l+1].T,dZ)\n",
    "        dZ = relu_derivative(dA,Z_values[l])\n",
    "        dW = 1./m * np.dot(dZ,A_values[l].T)\n",
    "        db = 1./m * np.sum(dZ, axis = 1, keepdims = True)\n",
    "        grads_weights.insert(0,dW)\n",
    "        grads_biases.insert(0,db)\n",
    "    return (grads_weights, grads_biases)\n",
    "        \n",
    "def gradient_descent(learning_rate, grads_weights, grads_biases, weights, biases):\n",
    "    for l in range(len(weights)):\n",
    "        weights[l] = weights[l]- learning_rate*grads_weights[l]\n",
    "        biases[l]= biases[l]- learning_rate*grads_biases[l]\n",
    "    return weights,biases"
   ]
  },
  {
   "cell_type": "code",
   "execution_count": 7,
   "metadata": {},
   "outputs": [
    {
     "name": "stdout",
     "output_type": "stream",
     "text": [
      "Cost after iteration 0: 1.23664156814375\n",
      "Cost after iteration 100: 0.5396883115302172\n",
      "Cost after iteration 200: 0.4837124640022145\n",
      "Cost after iteration 300: 0.41191870743906883\n",
      "Cost after iteration 400: 0.31195173244289454\n",
      "Cost after iteration 500: 0.23682791764891303\n",
      "Cost after iteration 600: 0.3104202796094652\n",
      "Cost after iteration 700: 0.2202443933367348\n",
      "Cost after iteration 800: 0.1251473203461186\n",
      "Cost after iteration 900: 0.10103335556238563\n",
      "Cost after iteration 1000: 0.07974865563144533\n",
      "Cost after iteration 1100: 0.06686944485226556\n",
      "Cost after iteration 1200: 0.056641363183696496\n",
      "Cost after iteration 1300: 0.04830933406153292\n",
      "Cost after iteration 1400: 0.04272003766966162\n"
     ]
    },
    {
     "data": {
      "image/png": "[encoded data removed]",
      "text/plain": [
       "<Figure size 432x288 with 1 Axes>"
      ]
     },
     "metadata": {
      "needs_background": "light"
     },
     "output_type": "display_data"
    }
   ],
   "source": [
    "def model(X, Y, layers_dims, learning_rate = 0.01, num_iterations = 1000, print_cost=True):\n",
    "    costs=[]\n",
    "    weights, biases = initialize_parameters(layers_dims)\n",
    "\n",
    "    for i in range(num_iterations):\n",
    "        AL, Z_values, A_values = forward_prop(X, weights, biases) \n",
    "\n",
    "        cost = calculate_cost(AL, Y)\n",
    "\n",
    "        grads_weights, grads_biases = backward_prop(AL, Y, Z_values, A_values, weights) \n",
    "        \n",
    "        weights, biases = gradient_descent(learning_rate, grads_weights, grads_biases, weights, biases)\n",
    "\n",
    "\n",
    "        # Print the cost every 100 training example\n",
    "        if print_cost and i % 100 == 0:\n",
    "            print (\"Cost after iteration \"+str(i)+\": \"+str(cost))\n",
    "            costs.append(cost)\n",
    "        \n",
    "    # plot the cost\n",
    "    if print_cost:\n",
    "        plt.plot(costs)\n",
    "        plt.ylabel('cost')\n",
    "        plt.xlabel('iterations (per hundreds)')\n",
    "        plt.title(\"Learning rate = \" + str(learning_rate))\n",
    "        plt.show()\n",
    "    return weights, biases\n",
    "        \n",
    "weights, biases = model(train_x, train_y, [12288,20,1], learning_rate = 0.04, num_iterations=1500)\n",
    "\n"
   ]
  },
  {
   "cell_type": "code",
   "execution_count": 8,
   "metadata": {},
   "outputs": [],
   "source": [
    "def predict(X, y, weights, biases, threshold):\n",
    "    m = X.shape[1]\n",
    "    p = np.zeros((1,m), dtype=int)\n",
    "    \n",
    "    A, _, _ = forward_prop(X,  weights, biases)\n",
    "\n",
    "    for i in range(0, A.shape[1]):\n",
    "        if A[0,i] > threshold:\n",
    "            p[0,i] = 1\n",
    "        else:\n",
    "            p[0,i] = 0\n",
    "    \n",
    "    #print results\n",
    "#     print (\"predictions: \" + str(p))\n",
    "#     print (\"true labels: \" + str(y))\n",
    "#     print(\"Accuracy: \"  + str(np.sum((p == y)/m)))\n",
    "    return np.sum((p == y)/m)"
   ]
  },
  {
   "cell_type": "code",
   "execution_count": 9,
   "metadata": {},
   "outputs": [
    {
     "name": "stdout",
     "output_type": "stream",
     "text": [
      "0.9999999999999998\n"
     ]
    }
   ],
   "source": [
    "scores_train=[]\n",
    "thresholds=[0.1,0.2,0.3,0.4,0.45,0.5,0.55,0.6,0.7,0.8]\n",
    "for thresh in thresholds:\n",
    "    score=predict(train_x, train_y, weights, biases, thresh)\n",
    "    scores_train.append(score)\n",
    "print(max(scores_train))"
   ]
  },
  {
   "cell_type": "code",
   "execution_count": 10,
   "metadata": {},
   "outputs": [
    {
     "name": "stdout",
     "output_type": "stream",
     "text": [
      "0.7000000000000001\n"
     ]
    },
    {
     "data": {
      "image/png": "[encoded data removed]",
      "text/plain": [
       "<Figure size 432x288 with 1 Axes>"
      ]
     },
     "metadata": {
      "needs_background": "light"
     },
     "output_type": "display_data"
    }
   ],
   "source": [
    "scores_test=[]\n",
    "for thresh in thresholds:\n",
    "    score=predict(test_x, test_y, weights, biases,thresh)\n",
    "    scores_test.append(score)\n",
    "\n",
    "print(max(scores_test))\n",
    "\n",
    "plt.plot(thresholds,scores_test,'r')\n",
    "plt.plot(thresholds,scores_train,'b')\n",
    "\n",
    "plt.ylabel('accuracy')\n",
    "plt.xlabel('threshold value')\n",
    "plt.show()"
   ]
  },
  {
   "cell_type": "code",
   "execution_count": null,
   "metadata": {},
   "outputs": [],
   "source": []
  }
 ],
 "metadata": {
  "kernelspec": {
   "display_name": "Python 3",
   "language": "python",
   "name": "python3"
  },
  "language_info": {
   "codemirror_mode": {
    "name": "ipython",
    "version": 3
   },
   "file_extension": ".py",
   "mimetype": "text/x-python",
   "name": "python",
   "nbconvert_exporter": "python",
   "pygments_lexer": "ipython3",
   "version": "3.7.6"
  }
 },
 "nbformat": 4,
 "nbformat_minor": 4
}
